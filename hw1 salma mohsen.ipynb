{
 "cells": [
  {
   "cell_type": "markdown",
   "id": "07bf08fb",
   "metadata": {},
   "source": [
    "# Salma Mohsen Probability homework 1\n"
   ]
  },
  {
   "cell_type": "code",
   "execution_count": 36,
   "id": "7ae920b7",
   "metadata": {},
   "outputs": [],
   "source": [
    "from collections import Counter\n",
    "from itertools import combinations_with_replacement\n",
    "import numpy as np\n",
    "import math  "
   ]
  },
  {
   "cell_type": "code",
   "execution_count": 6,
   "id": "aa2a43b9",
   "metadata": {},
   "outputs": [
    {
     "data": {
      "text/plain": [
       "12600.0"
      ]
     },
     "execution_count": 6,
     "metadata": {},
     "output_type": "execute_result"
    }
   ],
   "source": [
    "def Techniques_of_counting(n,a):  \n",
    "    num=math.factorial(n)\n",
    "    d=1\n",
    "    for i in a:\n",
    "        d= d* math.factorial(i)\n",
    "    res=num/d\n",
    "    return res\n",
    "\n",
    "Techniques_of_counting(10,[4,3,2,1])"
   ]
  },
  {
   "cell_type": "code",
   "execution_count": 88,
   "id": "04b686f1",
   "metadata": {},
   "outputs": [],
   "source": [
    "choco={\"a\": 1, 'b': 1.5, 'c': 2.25, 'd': 3, 'e': 5}"
   ]
  },
  {
   "cell_type": "code",
   "execution_count": 89,
   "id": "a3c2f21f",
   "metadata": {},
   "outputs": [],
   "source": [
    "#getting al possible combinations\n",
    "b=list(combinations_with_replacement(choco.keys(), 30))\n",
    "boxes = []\n",
    "# getting the number of each chocolate type\n",
    "for i in range (len(b)):\n",
    "    boxes.append(dict(Counter(list(b[i]))))\n",
    "    \n",
    "# getting the price of each box\n",
    "n=[]\n",
    "prices=[]\n",
    "#print(sum(s[0][k]*choco[k] for k in choco))\n",
    "for i in boxes:\n",
    "    n=[]\n",
    "    for k in i:\n",
    "        n.append(i[k]*choco[k])\n",
    "    prices.append(sum(n))"
   ]
  },
  {
   "cell_type": "code",
   "execution_count": 90,
   "id": "2d7cdee3",
   "metadata": {},
   "outputs": [
    {
     "name": "stdout",
     "output_type": "stream",
     "text": [
      "{'a': 30} price = 30\n",
      "{'a': 29, 'b': 1} price = 30.5\n",
      "{'a': 29, 'c': 1} price = 31.25\n",
      "{'a': 29, 'd': 1} price = 32\n",
      "{'a': 29, 'e': 1} price = 34\n",
      "{'a': 28, 'b': 2} price = 31.0\n",
      "{'a': 28, 'b': 1, 'c': 1} price = 31.75\n",
      "{'a': 28, 'b': 1, 'd': 1} price = 32.5\n",
      "{'a': 28, 'b': 1, 'e': 1} price = 34.5\n",
      "{'a': 28, 'c': 2} price = 32.5\n"
     ]
    }
   ],
   "source": [
    "for i in range (0,10):\n",
    "    print(boxes[i],\"price =\",prices[i])"
   ]
  },
  {
   "cell_type": "code",
   "execution_count": 93,
   "id": "3f9ca780",
   "metadata": {},
   "outputs": [
    {
     "name": "stdout",
     "output_type": "stream",
     "text": [
      "76.5 343.0 18.520259177452136\n"
     ]
    }
   ],
   "source": [
    "mean=np.mean(prices)\n",
    "variance=np.var(prices)\n",
    "std=np.std(prices)\n",
    "print(mean,variance,std)"
   ]
  },
  {
   "cell_type": "code",
   "execution_count": 94,
   "id": "a8c89ece",
   "metadata": {},
   "outputs": [
    {
     "data": {
      "text/plain": [
       "46376"
      ]
     },
     "execution_count": 94,
     "metadata": {},
     "output_type": "execute_result"
    }
   ],
   "source": [
    "len(boxes)"
   ]
  },
  {
   "cell_type": "code",
   "execution_count": 96,
   "id": "c224724e",
   "metadata": {},
   "outputs": [
    {
     "data": {
      "text/plain": [
       "2.156287735035363e-05"
      ]
     },
     "execution_count": 96,
     "metadata": {},
     "output_type": "execute_result"
    }
   ],
   "source": [
    "#prob of getting a box of all equal pieces\n",
    "1/46376"
   ]
  },
  {
   "cell_type": "code",
   "execution_count": 99,
   "id": "f1cf2db4",
   "metadata": {},
   "outputs": [
    {
     "data": {
      "text/plain": [
       "0.11393824391926859"
      ]
     },
     "execution_count": 99,
     "metadata": {},
     "output_type": "execute_result"
    }
   ],
   "source": [
    "# the probability of creating boxes with prices >= 100 L.E. \n",
    "sum(i > 100 for i in prices)/46376"
   ]
  },
  {
   "cell_type": "code",
   "execution_count": null,
   "id": "2ee825c8",
   "metadata": {},
   "outputs": [],
   "source": []
  }
 ],
 "metadata": {
  "kernelspec": {
   "display_name": "Python 3 (ipykernel)",
   "language": "python",
   "name": "python3"
  },
  "language_info": {
   "codemirror_mode": {
    "name": "ipython",
    "version": 3
   },
   "file_extension": ".py",
   "mimetype": "text/x-python",
   "name": "python",
   "nbconvert_exporter": "python",
   "pygments_lexer": "ipython3",
   "version": "3.9.7"
  }
 },
 "nbformat": 4,
 "nbformat_minor": 5
}
